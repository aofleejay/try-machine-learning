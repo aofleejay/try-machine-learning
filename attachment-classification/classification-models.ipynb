{
 "cells": [
  {
   "cell_type": "markdown",
   "metadata": {},
   "source": [
    "# Classification Models"
   ]
  },
  {
   "cell_type": "code",
   "execution_count": 1,
   "metadata": {},
   "outputs": [],
   "source": [
    "import json\n",
    "import numpy as np\n",
    "from sklearn.feature_extraction.text import TfidfVectorizer\n",
    "from sklearn.naive_bayes import MultinomialNB, GaussianNB, BernoulliNB\n",
    "from sklearn.metrics import confusion_matrix, recall_score, precision_score, classification_report, accuracy_score\n",
    "from sklearn.model_selection import cross_val_score\n",
    "from sklearn.externals import joblib\n",
    "\n",
    "with open('/notebooks/data/x.json', 'r') as file:\n",
    "    x = json.load(file)\n",
    "\n",
    "with open('/notebooks/data/y.json', 'r') as file:\n",
    "    y = json.load(file)\n",
    "    \n",
    "vectorizer = TfidfVectorizer()\n",
    "Xtrain = vectorizer.fit_transform(x).toarray()\n",
    "Ytrain = np.asarray(y)"
   ]
  },
  {
   "cell_type": "markdown",
   "metadata": {},
   "source": [
    "## MultinomialNB"
   ]
  },
  {
   "cell_type": "code",
   "execution_count": 2,
   "metadata": {},
   "outputs": [
    {
     "name": "stdout",
     "output_type": "stream",
     "text": [
      "[[1157    0  202    0    0   38    5    6   12]\n",
      " [   0  200    0    0    0    0    0    0    0]\n",
      " [  43    0 1660    0    0    2   11   10    1]\n",
      " [   0    0    1  808    0    0    0    0    0]\n",
      " [   0    0   27    0  305    0    0    0    0]\n",
      " [   2    0   14    0    0   74    0    0    0]\n",
      " [   0    0  123    0    0    0   40    0    0]\n",
      " [   0    0    4    0    0    2    0  160    0]\n",
      " [   0    0    2    0    0    0    0    0   60]]\n",
      "                precision    recall  f1-score   support\n",
      "\n",
      "            cv       0.91      0.96      0.94       166\n",
      "         other       0.82      0.96      0.88      1727\n",
      "        resume       0.96      0.81      0.88      1420\n",
      "    transcript       0.71      0.25      0.37       163\n",
      "ประวัติส่วนตัว       0.82      0.97      0.89        62\n",
      "          ราคา       1.00      1.00      1.00       200\n",
      "      สมัครงาน       0.64      0.82      0.72        90\n",
      "      หลักสูตร       1.00      1.00      1.00       809\n",
      "          อบรม       1.00      0.92      0.96       332\n",
      "\n",
      "   avg / total       0.90      0.90      0.89      4969\n",
      "\n"
     ]
    }
   ],
   "source": [
    "modelMultinomialNB = MultinomialNB(alpha=0.01).fit(Xtrain, Ytrain)\n",
    "joblib.dump(modelMultinomialNB, 'MultinomialNB.pkl')\n",
    "\n",
    "YmodelMultinomialNBPredict = modelMultinomialNB.predict(Xtrain)\n",
    "\n",
    "print confusion_matrix(Ytrain, YmodelMultinomialNBPredict, labels=list(set(Ytrain)))\n",
    "print classification_report(Ytrain, YmodelMultinomialNBPredict)\n",
    "# print cross_val_score(modelMultinomialNB, Xtrain, Ytrain, cv=10)"
   ]
  },
  {
   "cell_type": "markdown",
   "metadata": {},
   "source": [
    "## GaussianNB"
   ]
  },
  {
   "cell_type": "code",
   "execution_count": null,
   "metadata": {},
   "outputs": [],
   "source": [
    "# modelGaussianNB = GaussianNB().fit(Xtrain, Ytrain)\n",
    "# joblib.dump(modelGaussianNB, 'GaussianNB.pkl')\n",
    "\n",
    "# YmodelGaussianNBPredict = modelGaussianNB.predict(Xtrain)\n",
    "\n",
    "# print confusion_matrix(Ytrain, YmodelGaussianNBPredict, labels=list(set(Ytrain)))\n",
    "# print classification_report(Ytrain, YmodelGaussianNBPredict)\n",
    "# print cross_val_score(modelGaussianNB, Xtrain, Ytrain, cv=10)"
   ]
  },
  {
   "cell_type": "markdown",
   "metadata": {},
   "source": [
    "## BernoulliNB"
   ]
  },
  {
   "cell_type": "code",
   "execution_count": null,
   "metadata": {},
   "outputs": [],
   "source": [
    "# modelBernoulliNB = BernoulliNB(alpha=0.01).fit(Xtrain, Ytrain)\n",
    "# joblib.dump(modelBernoulliNB, 'BernoulliNB.pkl')\n",
    "\n",
    "# YmodelBernoulliNBPredict = modelBernoulliNB.predict(Xtrain)\n",
    "\n",
    "# print confusion_matrix(Ytrain, YmodelBernoulliNBPredict, labels=list(set(Ytrain)))\n",
    "# print classification_report(Ytrain, YmodelBernoulliNBPredict)\n",
    "# print cross_val_score(modelBernoulliNB, Xtrain, Ytrain, cv=10)"
   ]
  },
  {
   "cell_type": "code",
   "execution_count": null,
   "metadata": {},
   "outputs": [],
   "source": []
  }
 ],
 "metadata": {
  "kernelspec": {
   "display_name": "Python 2",
   "language": "python",
   "name": "python2"
  },
  "language_info": {
   "codemirror_mode": {
    "name": "ipython",
    "version": 2
   },
   "file_extension": ".py",
   "mimetype": "text/x-python",
   "name": "python",
   "nbconvert_exporter": "python",
   "pygments_lexer": "ipython2",
   "version": "2.7.12"
  }
 },
 "nbformat": 4,
 "nbformat_minor": 2
}
