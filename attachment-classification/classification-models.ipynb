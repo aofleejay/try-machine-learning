{
 "cells": [
  {
   "cell_type": "markdown",
   "metadata": {},
   "source": [
    "# Classification Models"
   ]
  },
  {
   "cell_type": "code",
   "execution_count": null,
   "metadata": {},
   "outputs": [],
   "source": [
    "import json\n",
    "import numpy as np\n",
    "from sklearn.feature_extraction.text import TfidfVectorizer\n",
    "from sklearn.naive_bayes import MultinomialNB, GaussianNB, BernoulliNB\n",
    "from sklearn.metrics import confusion_matrix, recall_score, precision_score, classification_report, accuracy_score\n",
    "from sklearn.model_selection import cross_val_score\n",
    "from sklearn.externals import joblib\n",
    "import pickle\n",
    "\n",
    "with open('/notebooks/data/contents.json', 'r') as file:\n",
    "    contents = json.load(file)\n",
    "\n",
    "with open('/notebooks/data/labels.json', 'r') as file:\n",
    "    labels = json.load(file)\n",
    "    \n",
    "vectorizer = TfidfVectorizer()\n",
    "tfidf = vectorizer.fit(contents)\n",
    "\n",
    "pickle.dump(tfidf, open(\"tfidf.pickle\", \"wb\"))\n",
    "tfidf = pickle.load(open(\"tfidf.pickle\", 'rb'))\n",
    "\n",
    "Xtrain = tfidf.transform(contents).toarray()\n",
    "Ytrain = np.asarray(labels)"
   ]
  },
  {
   "cell_type": "markdown",
   "metadata": {},
   "source": [
    "## MultinomialNB"
   ]
  },
  {
   "cell_type": "code",
   "execution_count": null,
   "metadata": {},
   "outputs": [],
   "source": [
    "modelMultinomialNB = MultinomialNB(alpha=0.01).fit(Xtrain, Ytrain)\n",
    "joblib.dump(modelMultinomialNB, 'MultinomialNB.pkl')\n",
    "\n",
    "YmodelMultinomialNBPredict = modelMultinomialNB.predict(Xtrain)\n",
    "\n",
    "print confusion_matrix(Ytrain, YmodelMultinomialNBPredict, labels=list(set(Ytrain)))\n",
    "print classification_report(Ytrain, YmodelMultinomialNBPredict)\n",
    "# print cross_val_score(modelMultinomialNB, Xtrain, Ytrain, cv=10)"
   ]
  },
  {
   "cell_type": "markdown",
   "metadata": {},
   "source": [
    "## GaussianNB"
   ]
  },
  {
   "cell_type": "code",
   "execution_count": null,
   "metadata": {},
   "outputs": [],
   "source": [
    "# modelGaussianNB = GaussianNB().fit(Xtrain, Ytrain)\n",
    "# joblib.dump(modelGaussianNB, 'GaussianNB.pkl')\n",
    "\n",
    "# YmodelGaussianNBPredict = modelGaussianNB.predict(Xtrain)\n",
    "\n",
    "# print confusion_matrix(Ytrain, YmodelGaussianNBPredict, labels=list(set(Ytrain)))\n",
    "# print classification_report(Ytrain, YmodelGaussianNBPredict)\n",
    "# print cross_val_score(modelGaussianNB, Xtrain, Ytrain, cv=10)"
   ]
  },
  {
   "cell_type": "markdown",
   "metadata": {},
   "source": [
    "## BernoulliNB"
   ]
  },
  {
   "cell_type": "code",
   "execution_count": null,
   "metadata": {},
   "outputs": [],
   "source": [
    "# modelBernoulliNB = BernoulliNB(alpha=0.01).fit(Xtrain, Ytrain)\n",
    "# joblib.dump(modelBernoulliNB, 'BernoulliNB.pkl')\n",
    "\n",
    "# YmodelBernoulliNBPredict = modelBernoulliNB.predict(Xtrain)\n",
    "\n",
    "# print confusion_matrix(Ytrain, YmodelBernoulliNBPredict, labels=list(set(Ytrain)))\n",
    "# print classification_report(Ytrain, YmodelBernoulliNBPredict)\n",
    "# print cross_val_score(modelBernoulliNB, Xtrain, Ytrain, cv=10)"
   ]
  },
  {
   "cell_type": "code",
   "execution_count": null,
   "metadata": {},
   "outputs": [],
   "source": []
  }
 ],
 "metadata": {
  "kernelspec": {
   "display_name": "Python 2",
   "language": "python",
   "name": "python2"
  },
  "language_info": {
   "codemirror_mode": {
    "name": "ipython",
    "version": 2
   },
   "file_extension": ".py",
   "mimetype": "text/x-python",
   "name": "python",
   "nbconvert_exporter": "python",
   "pygments_lexer": "ipython2",
   "version": "2.7.12"
  }
 },
 "nbformat": 4,
 "nbformat_minor": 2
}
