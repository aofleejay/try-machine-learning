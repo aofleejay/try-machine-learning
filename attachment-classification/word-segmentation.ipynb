{
 "cells": [
  {
   "cell_type": "markdown",
   "metadata": {},
   "source": [
    "# Word Segmentation"
   ]
  },
  {
   "cell_type": "code",
   "execution_count": null,
   "metadata": {},
   "outputs": [],
   "source": [
    "import json\n",
    "import tnthai.segment as tn\n",
    "\n",
    "with open('/notebooks/data/attachments.json', 'r') as file:\n",
    "  attachments = json.load(file)\n",
    "  segmented = []\n",
    "\n",
    "  for attachment in attachments:\n",
    "    content = attachment['content'].encode('utf-8')\n",
    "    term = tn.UnsafeSegment(content)\n",
    "    segmented.append(term[1][0])\n",
    "\n",
    "with open('/notebooks/data/segments.json', 'w') as outfile:\n",
    "  json.dump(segmented, outfile, indent=4)\n"
   ]
  }
 ],
 "metadata": {
  "kernelspec": {
   "display_name": "Python 2",
   "language": "python",
   "name": "python2"
  },
  "language_info": {
   "codemirror_mode": {
    "name": "ipython",
    "version": 2
   },
   "file_extension": ".py",
   "mimetype": "text/x-python",
   "name": "python",
   "nbconvert_exporter": "python",
   "pygments_lexer": "ipython2",
   "version": "2.7.12"
  }
 },
 "nbformat": 4,
 "nbformat_minor": 2
}
