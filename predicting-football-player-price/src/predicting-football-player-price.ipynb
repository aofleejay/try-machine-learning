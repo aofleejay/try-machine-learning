{
 "cells": [
  {
   "cell_type": "code",
   "execution_count": 21,
   "metadata": {},
   "outputs": [
    {
     "name": "stdout",
     "output_type": "stream",
     "text": [
      "Index([u'Unnamed: 0', u'Name', u'Age', u'Photo', u'Nationality', u'Flag',\n",
      "       u'Overall', u'Potential', u'Club', u'Club Logo', u'Value', u'Wage',\n",
      "       u'Special', u'Acceleration', u'Aggression', u'Agility', u'Balance',\n",
      "       u'Ball control', u'Composure', u'Crossing', u'Curve', u'Dribbling',\n",
      "       u'Finishing', u'Free kick accuracy', u'GK diving', u'GK handling',\n",
      "       u'GK kicking', u'GK positioning', u'GK reflexes', u'Heading accuracy',\n",
      "       u'Interceptions', u'Jumping', u'Long passing', u'Long shots',\n",
      "       u'Marking', u'Penalties', u'Positioning', u'Reactions',\n",
      "       u'Short passing', u'Shot power', u'Sliding tackle', u'Sprint speed',\n",
      "       u'Stamina', u'Standing tackle', u'Strength', u'Vision', u'Volleys',\n",
      "       u'CAM', u'CB', u'CDM', u'CF', u'CM', u'ID', u'LAM', u'LB', u'LCB',\n",
      "       u'LCM', u'LDM', u'LF', u'LM', u'LS', u'LW', u'LWB',\n",
      "       u'Preferred Positions', u'RAM', u'RB', u'RCB', u'RCM', u'RDM', u'RF',\n",
      "       u'RM', u'RS', u'RW', u'RWB', u'ST'],\n",
      "      dtype='object')\n"
     ]
    }
   ],
   "source": [
    "import pandas as pd\n",
    "\n",
    "data = pd.read_csv('../data/CompleteDataset.csv')\n",
    "print data.columns"
   ]
  },
  {
   "cell_type": "code",
   "execution_count": null,
   "metadata": {},
   "outputs": [],
   "source": []
  }
 ],
 "metadata": {
  "kernelspec": {
   "display_name": "Python 2",
   "language": "python",
   "name": "python2"
  },
  "language_info": {
   "codemirror_mode": {
    "name": "ipython",
    "version": 2
   },
   "file_extension": ".py",
   "mimetype": "text/x-python",
   "name": "python",
   "nbconvert_exporter": "python",
   "pygments_lexer": "ipython2",
   "version": "2.7.12"
  }
 },
 "nbformat": 4,
 "nbformat_minor": 2
}
