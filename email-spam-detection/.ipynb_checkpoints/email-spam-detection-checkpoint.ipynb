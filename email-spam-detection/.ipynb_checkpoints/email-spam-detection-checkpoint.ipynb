{
 "cells": [
  {
   "cell_type": "markdown",
   "metadata": {},
   "source": [
    "# Extract Raw Attachments Into JSON\n",
    "\n",
    "Format\n",
    "```\n",
    "[\n",
    "    {\n",
    "        \"content\": \"Mr. Kunapot Pairat\\nExpected Jobs : Environmental Assistant Manager\\n\",\n",
    "        \"type\": \"resume\", \n",
    "        \"name\": \"resume kunapot 1.docx\"\n",
    "    },\n",
    "    {\n",
    "        \"content\": \"48/214 \\u0e2d\\u0e40\\u0e04\\u0e07\\u0e08\\u0e31\\u0e04\\u0e25\\u0e19\\u0e48\\u0e2b\\u0e30\\n\",\n",
    "        \"type\": \"resume\", \n",
    "        \"name\": \"\\u0e32\\u0e22\\u0e08\\u0e14\\u0e2b\\u0e21\\u0e31\\u0e21\\u0e04\\u0e23\\u0e07\\u0e2a.pdf\"\n",
    "    \n",
    "    }\n",
    "]\n",
    "```"
   ]
  },
  {
   "cell_type": "code",
   "execution_count": 18,
   "metadata": {},
   "outputs": [
    {
     "name": "stdout",
     "output_type": "stream",
     "text": [
      "Cannot read .PDF file.\n",
      "Cannot read .PDF file.\n",
      "Cannot read .PDF file.\n",
      "Cannot read .PDF file.\n",
      "Cannot read .PDF file.\n",
      "Cannot read .PDF file.\n",
      "Cannot read .PDF file.\n",
      "Cannot read .PDF file.\n",
      "Cannot read .PDF file.\n",
      "Cannot read .PDF file.\n",
      "Cannot read .PDF file.\n",
      "Cannot read .PDF file.\n",
      "Cannot read .PDF file.\n",
      "Cannot read .PDF file.\n",
      "Cannot read .PDF file.\n",
      "Cannot read .PDF file.\n",
      "Cannot read .PDF file.\n",
      "Cannot read .PDF file.\n",
      "Cannot read .PDF file.\n",
      "Cannot read .PDF file.\n",
      "Cannot read .PDF file.\n",
      "Cannot read .PDF file.\n",
      "Cannot read .PDF file.\n",
      "Cannot read .PDF file.\n",
      "Cannot read .PDF file.\n",
      "Cannot read .PDF file.\n",
      "Cannot read .PDF file.\n",
      "Cannot read .PDF file.\n",
      "Cannot read .PDF file.\n",
      "Cannot read .PDF file.\n",
      "Cannot read .PDF file.\n",
      "Cannot read .PDF file.\n",
      "Cannot read .PDF file.\n",
      "Cannot read .PDF file.\n",
      "Cannot read .PDF file.\n"
     ]
    }
   ],
   "source": [
    "import os, json, subprocess\n",
    "import textract\n",
    "\n",
    "def readDocByFileName(filename):\n",
    "    readtext = subprocess.Popen(\"antiword -m UTF-8.txt \\\"\" + filename + \"\\\"\", shell=True, stdout=subprocess.PIPE).stdout.read()\n",
    "    return readtext\n",
    "\n",
    "path = '/notebooks/data/raw/'\n",
    "folders = os.listdir(path)\n",
    "\n",
    "attachments = []\n",
    "for folder in folders:\n",
    "    directory = path + folder\n",
    "    for root, directories, files in os.walk(directory):\n",
    "        for fileName in files:\n",
    "            filePath = os.path.join(root, fileName)\n",
    "            fileExtension = filePath.split('.')[-1]\n",
    "            \n",
    "            if fileExtension == 'pdf':\n",
    "                try:\n",
    "                    attachments.append({ \"name\": fileName, \"type\": folder, \"content\": textract.process(filePath, method='pdftotext') })\n",
    "                except:\n",
    "                    print 'Cannot read .PDF file.'\n",
    "                    pass\n",
    "            elif fileExtension == 'docx':\n",
    "                attachments.append({ \"name\": fileName, \"type\": folder, \"content\": textract.process(filePath) })\n",
    "            elif fileExtension == 'doc':\n",
    "                attachments.append({ \"name\": fileName, \"type\": folder, \"content\": readDocByFileName(path + folder + '/' + fileName) })\n",
    "\n",
    "with open('/notebooks/data/attachments.json', 'w') as outfile:\n",
    "    json.dump(attachments, outfile, indent=4)\n"
   ]
  }
 ],
 "metadata": {
  "kernelspec": {
   "display_name": "Python 2",
   "language": "python",
   "name": "python2"
  },
  "language_info": {
   "codemirror_mode": {
    "name": "ipython",
    "version": 2
   },
   "file_extension": ".py",
   "mimetype": "text/x-python",
   "name": "python",
   "nbconvert_exporter": "python",
   "pygments_lexer": "ipython2",
   "version": "2.7.12"
  }
 },
 "nbformat": 4,
 "nbformat_minor": 2
}
