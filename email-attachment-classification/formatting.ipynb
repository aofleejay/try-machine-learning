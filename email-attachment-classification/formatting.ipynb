{
 "cells": [
  {
   "cell_type": "markdown",
   "metadata": {},
   "source": [
    "# Formatting"
   ]
  },
  {
   "cell_type": "code",
   "execution_count": 1,
   "metadata": {},
   "outputs": [],
   "source": [
    "import json\n",
    "\n",
    "with open('/notebooks/data/segments.json', 'r') as file:\n",
    "    segments = json.load(file)\n",
    "\n",
    "with open('/notebooks/data/attachments.json', 'r') as file:\n",
    "    attachments = json.load(file)\n",
    "\n",
    "contents = []\n",
    "labels = []\n",
    "for words in segments:\n",
    "    contents.append(\" \".join(words))\n",
    "\n",
    "for attachment in attachments:\n",
    "    labels.append(attachment[\"type\"])\n",
    "\n",
    "with open('/notebooks/data/contents.json', 'w') as outfile:\n",
    "    json.dump(contents, outfile, indent=4)\n",
    "\n",
    "with open('/notebooks/data/labels.json', 'w') as outfile:\n",
    "    json.dump(labels, outfile, indent=4)\n"
   ]
  },
  {
   "cell_type": "code",
   "execution_count": null,
   "metadata": {},
   "outputs": [],
   "source": []
  }
 ],
 "metadata": {
  "kernelspec": {
   "display_name": "Python 2",
   "language": "python",
   "name": "python2"
  },
  "language_info": {
   "codemirror_mode": {
    "name": "ipython",
    "version": 2
   },
   "file_extension": ".py",
   "mimetype": "text/x-python",
   "name": "python",
   "nbconvert_exporter": "python",
   "pygments_lexer": "ipython2",
   "version": "2.7.12"
  }
 },
 "nbformat": 4,
 "nbformat_minor": 2
}
