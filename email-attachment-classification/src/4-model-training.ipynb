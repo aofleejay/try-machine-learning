{
 "cells": [
  {
   "cell_type": "markdown",
   "metadata": {},
   "source": [
    "# Model Training"
   ]
  },
  {
   "cell_type": "code",
   "execution_count": null,
   "metadata": {},
   "outputs": [],
   "source": [
    "import json\n",
    "import numpy as np\n",
    "import pickle\n",
    "from sklearn.feature_extraction.text import TfidfVectorizer\n",
    "from sklearn.naive_bayes import MultinomialNB\n",
    "from sklearn.metrics import confusion_matrix, recall_score, precision_score, classification_report, accuracy_score\n",
    "from sklearn.model_selection import cross_val_score\n",
    "from sklearn.externals import joblib\n",
    "\n",
    "with open('/notebooks/data/documents.json', 'r') as file:\n",
    "    documents = json.load(file)\n",
    "\n",
    "with open('/notebooks/data/labels.json', 'r') as file:\n",
    "    labels = json.load(file)\n",
    "\n",
    "vectorizer = pickle.load(open(\"/notebooks/src/vectorizers/tfidf.pickle\", 'rb'))\n",
    "\n",
    "Xtrain = vectorizer.transform(documents).toarray()\n",
    "Ytrain = np.asarray(labels)"
   ]
  },
  {
   "cell_type": "markdown",
   "metadata": {},
   "source": [
    "## MultinomialNB"
   ]
  },
  {
   "cell_type": "code",
   "execution_count": null,
   "metadata": {},
   "outputs": [],
   "source": [
    "modelMultinomialNB = MultinomialNB(alpha=0.01).fit(Xtrain, Ytrain)\n",
    "joblib.dump(modelMultinomialNB, '/notebooks/src/models/MultinomialNB.pkl')\n",
    "\n",
    "YMultinomialNBPredict = modelMultinomialNB.predict(Xtrain)\n",
    "\n",
    "print confusion_matrix(Ytrain, YMultinomialNBPredict, labels=list(set(Ytrain)))\n",
    "print classification_report(Ytrain, YMultinomialNBPredict)\n",
    "# print cross_val_score(modelMultinomialNB, Xtrain, Ytrain, cv=10)"
   ]
  }
 ],
 "metadata": {
  "kernelspec": {
   "display_name": "Python 2",
   "language": "python",
   "name": "python2"
  },
  "language_info": {
   "codemirror_mode": {
    "name": "ipython",
    "version": 2
   },
   "file_extension": ".py",
   "mimetype": "text/x-python",
   "name": "python",
   "nbconvert_exporter": "python",
   "pygments_lexer": "ipython2",
   "version": "2.7.12"
  }
 },
 "nbformat": 4,
 "nbformat_minor": 2
}
