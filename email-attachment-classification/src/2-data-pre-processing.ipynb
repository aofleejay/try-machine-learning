{
 "cells": [
  {
   "cell_type": "markdown",
   "metadata": {},
   "source": [
    "# Data pre-processing"
   ]
  },
  {
   "cell_type": "markdown",
   "metadata": {},
   "source": [
    "## Word segmentation"
   ]
  },
  {
   "cell_type": "code",
   "execution_count": null,
   "metadata": {},
   "outputs": [],
   "source": [
    "import json\n",
    "import tnthai.segment as tn\n",
    "\n",
    "with open('/notebooks/data/documents.json', 'r') as file:\n",
    "    documents = json.load(file)\n",
    "    wordSequences = []\n",
    "\n",
    "    for document in documents:\n",
    "        content = document.encode('utf-8')\n",
    "        term = tn.UnsafeSegment(content)\n",
    "        wordSequences.append(term[1][0])\n",
    "\n",
    "with open('/notebooks/data/word-sequences.json', 'w') as outfile:\n",
    "      json.dump(wordSequences, outfile, indent=4)"
   ]
  },
  {
   "cell_type": "code",
   "execution_count": null,
   "metadata": {},
   "outputs": [],
   "source": []
  }
 ],
 "metadata": {
  "kernelspec": {
   "display_name": "Python 2",
   "language": "python",
   "name": "python2"
  },
  "language_info": {
   "codemirror_mode": {
    "name": "ipython",
    "version": 2
   },
   "file_extension": ".py",
   "mimetype": "text/x-python",
   "name": "python",
   "nbconvert_exporter": "python",
   "pygments_lexer": "ipython2",
   "version": "2.7.12"
  }
 },
 "nbformat": 4,
 "nbformat_minor": 2
}
