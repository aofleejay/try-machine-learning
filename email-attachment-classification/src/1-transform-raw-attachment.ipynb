{
 "cells": [
  {
   "cell_type": "markdown",
   "metadata": {},
   "source": [
    "# Transform email attachment into document and label"
   ]
  },
  {
   "cell_type": "code",
   "execution_count": 3,
   "metadata": {},
   "outputs": [
    {
     "name": "stdout",
     "output_type": "stream",
     "text": [
      "Cannot read .pdf file.\n",
      "Cannot read .pdf file.\n",
      "Cannot read .pdf file.\n",
      "Cannot read .pdf file.\n",
      "Cannot read .pdf file.\n",
      "Cannot read .pdf file.\n",
      "Cannot read .pdf file.\n",
      "Cannot read .pdf file.\n",
      "Cannot read .pdf file.\n",
      "Cannot read .pdf file.\n",
      "Cannot read .pdf file.\n",
      "Cannot read .pdf file.\n",
      "Cannot read .pdf file.\n",
      "Cannot read .pdf file.\n",
      "Cannot read .pdf file.\n",
      "Cannot read .pdf file.\n",
      "Cannot read .pdf file.\n",
      "Cannot read .pdf file.\n",
      "Cannot read .pdf file.\n",
      "Cannot read .pdf file.\n",
      "Cannot read .pdf file.\n",
      "Cannot read .pdf file.\n",
      "Cannot read .pdf file.\n",
      "Cannot read .pdf file.\n",
      "Cannot read .pdf file.\n",
      "Cannot read .pdf file.\n",
      "Cannot read .pdf file.\n",
      "Cannot read .pdf file.\n",
      "Cannot read .pdf file.\n",
      "Cannot read .pdf file.\n",
      "Cannot read .pdf file.\n",
      "Cannot read .pdf file.\n",
      "Cannot read .pdf file.\n",
      "Cannot read .pdf file.\n",
      "Cannot read .pdf file.\n"
     ]
    }
   ],
   "source": [
    "import os\n",
    "import json\n",
    "import subprocess\n",
    "import textract\n",
    "\n",
    "def readDocFile(filePath):\n",
    "    readText = subprocess.Popen(\"antiword -m UTF-8.txt \\\"\" + filePath + \"\\\"\", shell=True, stdout=subprocess.PIPE).stdout.read()\n",
    "    return readText\n",
    "\n",
    "path = '/notebooks/data/raw/'\n",
    "folders = os.listdir(path)\n",
    "\n",
    "documents = []\n",
    "labels = []\n",
    "fileNames = []\n",
    "\n",
    "for folder in folders:\n",
    "    directory = path + folder\n",
    "    for root, directories, files in os.walk(directory):\n",
    "        for fileName in files:\n",
    "            filePath = os.path.join(root, fileName)\n",
    "            fileExtension = filePath.split('.')[-1]\n",
    "      \n",
    "            if fileExtension == 'pdf':\n",
    "                try:\n",
    "                    documents.append(textract.process(filePath, method='pdftotext'))\n",
    "                    labels.append(folder)\n",
    "                    fileNames.append(fileName)\n",
    "                except:\n",
    "                    print 'Cannot read .pdf file.'\n",
    "                    pass\n",
    "            elif fileExtension == 'docx':\n",
    "                try:\n",
    "                    documents.append(textract.process(filePath))\n",
    "                    labels.append(folder)\n",
    "                    fileNames.append(fileName)\n",
    "                except:\n",
    "                    print 'Cannot read .docx file.'\n",
    "                    pass\n",
    "            elif fileExtension == 'doc':\n",
    "                try:\n",
    "                    documents.append(readDocFile(path + folder + '/' + fileName))\n",
    "                    labels.append(folder)\n",
    "                    fileNames.append(fileName)\n",
    "                except:\n",
    "                    print 'Cannot read .doc file.'\n",
    "                    pass\n",
    "\n",
    "with open('/notebooks/data/documents.json', 'w') as outfile:\n",
    "    json.dump(documents, outfile, indent=4)\n",
    "\n",
    "with open('/notebooks/data/labels.json', 'w') as outfile:\n",
    "    json.dump(labels, outfile, indent=4)\n",
    "\n",
    "with open('/notebooks/data/fileNames.json', 'w') as outfile:\n",
    "    json.dump(fileNames, outfile, indent=4)"
   ]
  },
  {
   "cell_type": "code",
   "execution_count": null,
   "metadata": {},
   "outputs": [],
   "source": []
  }
 ],
 "metadata": {
  "kernelspec": {
   "display_name": "Python 2",
   "language": "python",
   "name": "python2"
  },
  "language_info": {
   "codemirror_mode": {
    "name": "ipython",
    "version": 2
   },
   "file_extension": ".py",
   "mimetype": "text/x-python",
   "name": "python",
   "nbconvert_exporter": "python",
   "pygments_lexer": "ipython2",
   "version": "2.7.12"
  }
 },
 "nbformat": 4,
 "nbformat_minor": 2
}
